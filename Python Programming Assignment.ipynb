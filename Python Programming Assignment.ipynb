{
 "cells": [
  {
   "cell_type": "code",
   "execution_count": 1,
   "id": "f7b83258",
   "metadata": {},
   "outputs": [
    {
     "name": "stdout",
     "output_type": "stream",
     "text": [
      "Enter a number: 34\n",
      "34 is not a prime number.\n"
     ]
    }
   ],
   "source": [
    "def is_prime(n):\n",
    "    \n",
    "    if n <= 1:\n",
    "        return False \n",
    "    if n == 2:\n",
    "        return True  \n",
    "    if n % 2 == 0:\n",
    "        return False  \n",
    "    \n",
    "    # Check for factors from 3 to the square root of n\n",
    "    max_divisor = int(n**0.5) + 1\n",
    "    for d in range(3, max_divisor, 2):\n",
    "        if n % d == 0:\n",
    "            return False\n",
    "    return True\n",
    "\n",
    "\n",
    "number = int(input(\"Enter a number: \"))\n",
    "if is_prime(number):\n",
    "    print(f\"{number} is a prime number.\")\n",
    "else:\n",
    "    print(f\"{number} is not a prime number.\")"
   ]
  },
  {
   "cell_type": "code",
   "execution_count": 2,
   "id": "d26b48d9",
   "metadata": {},
   "outputs": [
    {
     "name": "stdout",
     "output_type": "stream",
     "text": [
      "What is the product of 27 and 30? 12\n",
      "Incorrect. The correct answer is 810.\n"
     ]
    }
   ],
   "source": [
    "import random\n",
    "\n",
    "def generate_numbers():\n",
    "    \"\"\"Generate two random numbers.\"\"\"\n",
    "    num1 = random.randint(1, 100)\n",
    "    num2 = random.randint(1, 100)\n",
    "    return num1, num2\n",
    "\n",
    "def main():\n",
    "    # Generate two random numbers\n",
    "    num1, num2 = generate_numbers()\n",
    "    \n",
    "    # Calculate the correct product\n",
    "    correct_product = num1 * num2\n",
    "    \n",
    "    # Ask the user to enter the product\n",
    "    user_answer = int(input(f\"What is the product of {num1} and {num2}? \"))\n",
    "    \n",
    "    # Check if the user's answer is correct\n",
    "    if user_answer == correct_product:\n",
    "        print(\"Correct! Well done.\")\n",
    "    else:\n",
    "        print(f\"Incorrect. The correct answer is {correct_product}.\")\n",
    "\n",
    "if __name__ == \"__main__\":\n",
    "    main()"
   ]
  },
  {
   "cell_type": "code",
   "execution_count": 3,
   "id": "5d9c7f2b",
   "metadata": {},
   "outputs": [
    {
     "name": "stdout",
     "output_type": "stream",
     "text": [
      "The square of 100 is 10000\n",
      "The square of 102 is 10404\n",
      "The square of 104 is 10816\n",
      "The square of 106 is 11236\n",
      "The square of 108 is 11664\n",
      "The square of 110 is 12100\n",
      "The square of 112 is 12544\n",
      "The square of 114 is 12996\n",
      "The square of 116 is 13456\n",
      "The square of 118 is 13924\n",
      "The square of 120 is 14400\n",
      "The square of 122 is 14884\n",
      "The square of 124 is 15376\n",
      "The square of 126 is 15876\n",
      "The square of 128 is 16384\n",
      "The square of 130 is 16900\n",
      "The square of 132 is 17424\n",
      "The square of 134 is 17956\n",
      "The square of 136 is 18496\n",
      "The square of 138 is 19044\n",
      "The square of 140 is 19600\n",
      "The square of 142 is 20164\n",
      "The square of 144 is 20736\n",
      "The square of 146 is 21316\n",
      "The square of 148 is 21904\n",
      "The square of 150 is 22500\n",
      "The square of 152 is 23104\n",
      "The square of 154 is 23716\n",
      "The square of 156 is 24336\n",
      "The square of 158 is 24964\n",
      "The square of 160 is 25600\n",
      "The square of 162 is 26244\n",
      "The square of 164 is 26896\n",
      "The square of 166 is 27556\n",
      "The square of 168 is 28224\n",
      "The square of 170 is 28900\n",
      "The square of 172 is 29584\n",
      "The square of 174 is 30276\n",
      "The square of 176 is 30976\n",
      "The square of 178 is 31684\n",
      "The square of 180 is 32400\n",
      "The square of 182 is 33124\n",
      "The square of 184 is 33856\n",
      "The square of 186 is 34596\n",
      "The square of 188 is 35344\n",
      "The square of 190 is 36100\n",
      "The square of 192 is 36864\n",
      "The square of 194 is 37636\n",
      "The square of 196 is 38416\n",
      "The square of 198 is 39204\n",
      "The square of 200 is 40000\n"
     ]
    }
   ],
   "source": [
    "def print_squares_of_even_numbers():\n",
    "    \"\"\"Print the squares of all even numbers within the range of 100 to 200.\"\"\"\n",
    "    for num in range(100, 201):\n",
    "        if num % 2 == 0:\n",
    "            print(f\"The square of {num} is {num ** 2}\")\n",
    "\n",
    "# Main function to call the square printing function\n",
    "if __name__ == \"__main__\":\n",
    "    print_squares_of_even_numbers()\n"
   ]
  },
  {
   "cell_type": "code",
   "execution_count": 6,
   "id": "a873515d",
   "metadata": {},
   "outputs": [
    {
     "name": "stdout",
     "output_type": "stream",
     "text": [
      "'This': 2\n",
      "'is': 1\n",
      "'a': 1\n",
      "'sample': 1\n",
      "'text.': 1\n",
      "'text': 1\n",
      "'will': 1\n",
      "'be': 1\n",
      "'used': 1\n",
      "'to': 1\n",
      "'demonstrate': 1\n",
      "'the': 1\n",
      "'word': 1\n",
      "'counter.': 1\n"
     ]
    }
   ],
   "source": [
    "def count_words(text):\n",
    "    \"\"\"Count the number of occurrences of each word in the given text.\"\"\"\n",
    "    # Split the text into words\n",
    "    words = text.split()\n",
    "    \n",
    "    # Initialize a dictionary to store the word counts\n",
    "    word_counts = {}\n",
    "    \n",
    "    # Iterate over the words and count occurrences\n",
    "    for word in words:\n",
    "        # Normalize words by converting to lowercase (optional)\n",
    "        # word = word.lower()\n",
    "        \n",
    "        if word in word_counts:\n",
    "            word_counts[word] += 1\n",
    "        else:\n",
    "            word_counts[word] = 1\n",
    "    \n",
    "    return word_counts\n",
    "\n",
    "def print_word_counts(word_counts):\n",
    "    \"\"\"Print the word counts in the desired format.\"\"\"\n",
    "    for word, count in word_counts.items():\n",
    "        print(f\"'{word}': {count}\")\n",
    "\n",
    "# sample \n",
    "input_text = \"This is a sample text. This text will be used to demonstrate the word counter.\"\n",
    "word_counts = count_words(input_text)\n",
    "print_word_counts(word_counts)\n"
   ]
  },
  {
   "cell_type": "code",
   "execution_count": 7,
   "id": "775f0905",
   "metadata": {},
   "outputs": [
    {
     "name": "stdout",
     "output_type": "stream",
     "text": [
      "True\n",
      "True\n",
      "False\n"
     ]
    }
   ],
   "source": [
    "import re\n",
    "\n",
    "def is_palindrome(s):\n",
    "    \"\"\"Check if a given string is a palindrome.\"\"\"\n",
    "    # Remove all non-alphanumeric characters and convert to lowercase\n",
    "    cleaned_s = re.sub(r'[^A-Za-z0-9]', '', s).lower()\n",
    "    \n",
    "    # Check if the cleaned string is equal to its reverse\n",
    "    return cleaned_s == cleaned_s[::-1]\n",
    "\n",
    "# Example usage\n",
    "input_text = \"A man, a plan, a canal, Panama\"\n",
    "print(is_palindrome(input_text))  # Output: True\n",
    "\n",
    "input_text = \"racecar\"\n",
    "print(is_palindrome(input_text))  # Output: True\n",
    "\n",
    "input_text = \"hello\"\n",
    "print(is_palindrome(input_text))  # Output: False\n"
   ]
  },
  {
   "cell_type": "code",
   "execution_count": null,
   "id": "73cbda05",
   "metadata": {},
   "outputs": [],
   "source": []
  }
 ],
 "metadata": {
  "kernelspec": {
   "display_name": "Python 3 (ipykernel)",
   "language": "python",
   "name": "python3"
  },
  "language_info": {
   "codemirror_mode": {
    "name": "ipython",
    "version": 3
   },
   "file_extension": ".py",
   "mimetype": "text/x-python",
   "name": "python",
   "nbconvert_exporter": "python",
   "pygments_lexer": "ipython3",
   "version": "3.11.5"
  }
 },
 "nbformat": 4,
 "nbformat_minor": 5
}
